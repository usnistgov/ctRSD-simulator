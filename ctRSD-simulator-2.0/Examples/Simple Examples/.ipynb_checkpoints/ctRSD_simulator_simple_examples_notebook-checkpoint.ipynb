{
 "cells": [
  {
   "cell_type": "markdown",
   "metadata": {},
   "source": [
    "## ctRSD simulator simple examples \n",
    "#### Documentation: https://ctrsd-simulator.readthedocs.io/en/latest/index.html"
   ]
  },
  {
   "cell_type": "markdown",
   "metadata": {},
   "source": [
    "### Installing and Initializing Simulator \n",
    "#### See Installation Documentation for additional details \n",
    "#### https://ctrsd-simulator.readthedocs.io/en/latest/ImportSim.html"
   ]
  },
  {
   "cell_type": "code",
   "execution_count": 2,
   "metadata": {},
   "outputs": [],
   "source": [
    "# Import simulator - need file path \n",
    "# Download from github and save within directory \n",
    "import sys\n",
    "sys.path.insert(1,'file path to simulator on your local computer')   # Note - manually change path to directory containing simulator file\n",
    "import ctRSD_simulator_200 as RSDs\n",
    "\n",
    "# Will also need the following imported below: \n",
    "import matplotlib.pyplot as plt\n",
    "import numpy as np"
   ]
  },
  {
   "cell_type": "markdown",
   "metadata": {},
   "source": [
    "### Single ctRSD Gate Reaction\n",
    "#### Input, Gate used: I{1}, G{1,2}"
   ]
  },
  {
   "cell_type": "code",
   "execution_count": 9,
   "metadata": {},
   "outputs": [],
   "source": [
    "#Following code will simulate example single gate rxn \n",
    "import ctRSD_simulator_200 as RSDs # import latest simulator version\n",
    "\n",
    "# numpy must also be imported to compile code below (np)\n",
    "import numpy as np\n",
    "\n",
    "# create the model instance\n",
    "model1 = RSDs.RSD_sim(5) # default number of domains (5 domains)\n",
    "# Note - Max index of input, outputs\n",
    "\n",
    "# specify species involved in the system\n",
    "model1.molecular_species('I{1}', DNA_con = 25)    # DNA_con = 25nM input concentration of I{1}\n",
    "model1.molecular_species('G{1,2}', DNA_con = 25)  # DNA_con = 25nM initial gate G{1,2} concentration \n",
    "model1.molecular_species('R{2}', ic = 500)        # ic = 500nM initial concentration of reporter R{2}\n",
    "\n",
    "# simulating the model - example for 6 hours\n",
    "t_sim = np.linspace(0,6,1001)*3600   # seconds for 6 hours\n",
    "model1.simulate(t_sim)                # function to simulate the model\n",
    "\n",
    "# pull out the species from the model solution to plot\n",
    "S2 = model1.output_concentration('S{2}')"
   ]
  },
  {
   "cell_type": "code",
   "execution_count": 10,
   "metadata": {},
   "outputs": [
    {
     "data": {
      "text/plain": [
       "Text(0, 0.5, 'Reacted reporter (%)')"
      ]
     },
     "execution_count": 10,
     "metadata": {},
     "output_type": "execute_result"
    },
    {
     "data": {
      "image/png": "[encoded data removed]",
      "text/plain": [
       "<Figure size 432x288 with 1 Axes>"
      ]
     },
     "metadata": {
      "needs_background": "light"
     },
     "output_type": "display_data"
    }
   ],
   "source": [
    "# Plot single gate simulation  \n",
    "# Note - matplotlib must be imported for plotting functions \n",
    "import matplotlib as plt\n",
    "import matplotlib.pyplot as plt\n",
    "\n",
    "fs = 12    \n",
    "#plt.subplot(3,5,1)\n",
    "plt.plot(t_sim/60,(S2/500)*100,color=[0,0,1],linewidth=2,linestyle='--') #plotted in min \n",
    "#Norm - initial conc of reporter \n",
    "plt.xticks(fontsize=fs)\n",
    "plt.yticks(fontsize=fs)\n",
    "plt.ylim(-10,110)\n",
    "plt.xlim(0,180)\n",
    "ax1 = plt.gca()\n",
    "ax1.xaxis.set_tick_params(which='both',size=3,width=1,direction='in',top='on')\n",
    "#ax1.xaxis.set_major_locator(MaxNLocator(integer=True))\n",
    "ax1.yaxis.set_tick_params(which='both',size=3,width=1,direction='in',right='on')\n",
    "plt.xlabel('Time (min)',fontsize=fs)\n",
    "plt.ylabel('Reacted reporter (%)',fontsize=fs)"
   ]
  },
  {
   "cell_type": "markdown",
   "metadata": {},
   "source": [
    "### Two-Layer Cascade Simulation\n",
    "#### Input, Gates used: I{3}, G{3,1}, G{1,2}"
   ]
  },
  {
   "cell_type": "code",
   "execution_count": 11,
   "metadata": {},
   "outputs": [],
   "source": [
    "import ctRSD_simulator_200 as RSDs # import latest simulator version\n",
    "\n",
    "# numpy must also be imported to compile code below (np)\n",
    "import numpy as np\n",
    "\n",
    "# create the model instance\n",
    "model2 = RSDs.RSD_sim(5) # default # of domains (5 domains)\n",
    "\n",
    "#model_2.global_rate_constants(ktxn=0.02) # changing the global transcription rate constant\n",
    "\n",
    "# specify species involved in the system\n",
    "model2.molecular_species('I{3}', DNA_con = 25)      # DNA_con = 25nM input concentration of I{3}\n",
    "model2.molecular_species('G{3,1}', DNA_con = 25)    # DNA_con = 25nM input concentration of G{3,1}\n",
    "model2.molecular_species('G{1,2}', DNA_con = 10)    # DNA_con = 10nM input concentration of G{1,2}\n",
    "model2.molecular_species('R{2}', ic = 500)          # ic = 500nM initial concentration of reporter R{2}\n",
    "\n",
    "# simulating the model\n",
    "t_sim = np.linspace(0,6,1001)*3600 # seconds\n",
    "model2.simulate(t_sim) # simulate the model\n",
    "\n",
    "# pull out the species from the model solution to plot\n",
    "S2 = model2.output_concentration('S{2}')"
   ]
  },
  {
   "cell_type": "code",
   "execution_count": 12,
   "metadata": {},
   "outputs": [
    {
     "data": {
      "text/plain": [
       "Text(0, 0.5, 'Reacted reporter (%)')"
      ]
     },
     "execution_count": 12,
     "metadata": {},
     "output_type": "execute_result"
    },
    {
     "data": {
      "image/png": "[encoded data removed]",
      "text/plain": [
       "<Figure size 432x288 with 1 Axes>"
      ]
     },
     "metadata": {
      "needs_background": "light"
     },
     "output_type": "display_data"
    }
   ],
   "source": [
    "# Plot two-layer cascade simulation\n",
    "# Note - matplotlib must be imported for plotting functions \n",
    "import matplotlib as plt\n",
    "import matplotlib.pyplot as plt\n",
    "\n",
    "fs = 12    \n",
    "#plt.subplot(3,5,1)\n",
    "plt.plot(t_sim/60,(S2/500)*100,color=[0,0,1],linewidth=2,linestyle='--') #plotted in min \n",
    "#Norm - initial conc of reporter \n",
    "plt.xticks(fontsize=fs)\n",
    "plt.yticks(fontsize=fs)\n",
    "plt.ylim(-10,110)\n",
    "plt.xlim(0,180)\n",
    "ax1 = plt.gca()\n",
    "ax1.xaxis.set_tick_params(which='both',size=3,width=1,direction='in',top='on')\n",
    "#ax1.xaxis.set_major_locator(MaxNLocator(integer=True))\n",
    "ax1.yaxis.set_tick_params(which='both',size=3,width=1,direction='in',right='on')\n",
    "plt.xlabel('Time (min)',fontsize=fs)\n",
    "plt.ylabel('Reacted reporter (%)',fontsize=fs)"
   ]
  },
  {
   "cell_type": "markdown",
   "metadata": {},
   "source": [
    "### Fan-Out Simulation \n",
    "#### Components used: O{4,3}, G{3,1}, G{3,5}\n",
    "#### Note - reaction rate constants have been changed from defaults in this example"
   ]
  },
  {
   "cell_type": "code",
   "execution_count": 13,
   "metadata": {},
   "outputs": [],
   "source": [
    "import ctRSD_simulator_200 as RSDs # import latest simulator version\n",
    "\n",
    "# numpy must also be imported to compile code below (np)\n",
    "import numpy as np\n",
    "\n",
    "# create the model instance\n",
    "model3 = RSDs.RSD_sim() # default # of domains (5 domains)\n",
    "\n",
    "model3.global_rate_constants(ktxn=0.02) # changing the global transcription rate constant\n",
    "\n",
    "# specify species involved in the system\n",
    "model3.molecular_species('O{4,3}', DNA_con = 25)\n",
    "model3.molecular_species('G{3,1}', DNA_con = 15) \n",
    "model3.molecular_species('G{3,5}', DNA_con = 15, krsd = 5e-6)   # changing krsd{3,5}\n",
    "model3.molecular_species('R{1}', ic = 500, krep = 5e-5)         # changing krep{1}\n",
    "model3.molecular_species('R{5}', ic = 500)\n",
    "\n",
    "# simulating the model\n",
    "t_sim = np.linspace(0,6,1001)*3600 # seconds\n",
    "model3.simulate(t_sim) # simulate the model\n",
    "\n",
    "# pull out the species from the model solution to plot\n",
    "S1 = model3.output_concentration('S{1}')\n",
    "S5 = model3.output_concentration('S{5}')"
   ]
  },
  {
   "cell_type": "code",
   "execution_count": 14,
   "metadata": {},
   "outputs": [
    {
     "data": {
      "text/plain": [
       "Text(0, 0.5, 'Reacted reporter (%)')"
      ]
     },
     "execution_count": 14,
     "metadata": {},
     "output_type": "execute_result"
    },
    {
     "data": {
      "image/png": "[encoded data removed]",
      "text/plain": [
       "<Figure size 432x288 with 1 Axes>"
      ]
     },
     "metadata": {
      "needs_background": "light"
     },
     "output_type": "display_data"
    }
   ],
   "source": [
    "# Plot fan-out simulation\n",
    "# Note - matplotlib must be imported for plotting functions \n",
    "import matplotlib as plt\n",
    "import matplotlib.pyplot as plt\n",
    "\n",
    "fs = 12    \n",
    "#plt.subplot(3,5,1)\n",
    "plt.plot(t_sim/60,(S1/500)*100,color=[1,0,0],linewidth=2,linestyle='--')\n",
    "plt.plot(t_sim/60,(S5/500)*100,color=[0,0.75,0.75],linewidth=2,linestyle='--')\n",
    "plt.xticks(fontsize=fs)\n",
    "plt.yticks(fontsize=fs)\n",
    "plt.ylim(-10,110)\n",
    "plt.xlim(0,180)\n",
    "ax1 = plt.gca()\n",
    "ax1.xaxis.set_tick_params(which='both',size=3,width=1,direction='in',top='on')\n",
    "#ax1.xaxis.set_major_locator(MaxNLocator(integer=True))\n",
    "ax1.yaxis.set_tick_params(which='both',size=3,width=1,direction='in',right='on')\n",
    "plt.xlabel('Time (min)',fontsize=fs)\n",
    "plt.ylabel('Reacted reporter (%)',fontsize=fs)"
   ]
  },
  {
   "cell_type": "markdown",
   "metadata": {},
   "source": [
    "### Fan-Out Fan-in Simulation \n",
    "#### Components used: O{4,3}, G{3,8}, G{3,5}, G{8,2}, G{5,2}\n",
    "#### Note - reaction rate constants have been changed from defaults in this example"
   ]
  },
  {
   "cell_type": "code",
   "execution_count": 15,
   "metadata": {},
   "outputs": [],
   "source": [
    "import ctRSD_simulator_200 as RSDs # import latest simulator version\n",
    "\n",
    "# numpy must also be imported to compile code below (np)\n",
    "import numpy as np\n",
    "\n",
    "# create the model instance\n",
    "model4 = RSDs.RSD_sim(8) # increasing # of domains to match highest index in system; G{8,2}\n",
    "\n",
    "model4.global_rate_constants(ktxn=0.02) # changing the global transcription rate constant\n",
    "\n",
    "# specify species involved in the system\n",
    "# Note - reaction rates modified from defaults \n",
    "model4.molecular_species('O{4,3}', DNA_con = 25)\n",
    "model4.molecular_species('G{3,8}', DNA_con = 15)\n",
    "model4.molecular_species('G{3,5}', DNA_con = 15,krsd = 5e-6) # changing krsd{3,5}\n",
    "model4.molecular_species('G{8,2}', DNA_con = 10,krev = 1e-8) # changing krev{8,2}\n",
    "model4.molecular_species('G{5,2}', DNA_con = 10,krsd = 3e-6, krev = 1e-8) # changing krsd{5,2} and krev{5,2}\n",
    "model4.molecular_species('R{2}', ic = 500)\n",
    "\n",
    "# simulating the model\n",
    "t_sim = np.linspace(0,6,1001)*3600 # seconds\n",
    "model4.simulate(t_sim) # simulate the model\n",
    "\n",
    "# pull out the species from the model solution to plot\n",
    "S2 = model4.output_concentration('S{2}')"
   ]
  },
  {
   "cell_type": "code",
   "execution_count": 17,
   "metadata": {},
   "outputs": [
    {
     "data": {
      "text/plain": [
       "Text(0, 0.5, 'Reacted reporter (%)')"
      ]
     },
     "execution_count": 17,
     "metadata": {},
     "output_type": "execute_result"
    },
    {
     "data": {
      "image/png": "[encoded data removed]",
      "text/plain": [
       "<Figure size 432x288 with 1 Axes>"
      ]
     },
     "metadata": {
      "needs_background": "light"
     },
     "output_type": "display_data"
    }
   ],
   "source": [
    "# plot fan-out fan-in simulation \n",
    "# Note - matplotlib must be imported for plotting functions \n",
    "import matplotlib as plt\n",
    "import matplotlib.pyplot as plt\n",
    "\n",
    "fs = 12    \n",
    "plt.plot(t_sim/60,(S2/500)*100,color=[1,0,0],linewidth=2,linestyle='--')\n",
    "plt.xticks(fontsize=fs)\n",
    "plt.yticks(fontsize=fs)\n",
    "plt.ylim(-10,110)\n",
    "plt.xlim(0,180)\n",
    "ax1 = plt.gca()\n",
    "ax1.xaxis.set_tick_params(which='both',size=3,width=1,direction='in',top='on')\n",
    "#ax1.xaxis.set_major_locator(MaxNLocator(integer=True))\n",
    "ax1.yaxis.set_tick_params(which='both',size=3,width=1,direction='in',right='on')\n",
    "plt.xlabel('Time (min)',fontsize=fs)\n",
    "plt.ylabel('Reacted reporter (%)',fontsize=fs)"
   ]
  },
  {
   "cell_type": "markdown",
   "metadata": {},
   "source": [
    "## Experimental Nomenclature Examples \n",
    "### The following simulation examples (single, two-layer cascade from above) using experimental nomeclature"
   ]
  },
  {
   "cell_type": "markdown",
   "metadata": {},
   "source": [
    "### Single ctRSD gate reaction with experimental nomenclature"
   ]
  },
  {
   "cell_type": "code",
   "execution_count": 18,
   "metadata": {},
   "outputs": [],
   "source": [
    "# create the model instance\n",
    "model_e1 = RSDs.RSD_sim() # default # of domains (5 domains)\n",
    "\n",
    "# specify species involved in the system\n",
    "model_e1.molecular_species('I{u1}',DNA_con=25)\n",
    "model_e1.molecular_species('G{u1,w2r}',DNA_con=25)\n",
    "model_e1.molecular_species('R{w2}',ic=500)\n",
    "\n",
    "# simulating the model\n",
    "t_sim = np.linspace(0,6,1001)*3600 # seconds\n",
    "model_e1.simulate(t_sim) # simulate the model\n",
    "\n",
    "# pull out the species from the model solution to plot\n",
    "S2 = model_e1.output_concentration('S{w2}')"
   ]
  },
  {
   "cell_type": "code",
   "execution_count": 19,
   "metadata": {},
   "outputs": [
    {
     "data": {
      "text/plain": [
       "Text(0, 0.5, 'Reacted reporter (%)')"
      ]
     },
     "execution_count": 19,
     "metadata": {},
     "output_type": "execute_result"
    },
    {
     "data": {
      "image/png": "[encoded data removed]",
      "text/plain": [
       "<Figure size 432x288 with 1 Axes>"
      ]
     },
     "metadata": {
      "needs_background": "light"
     },
     "output_type": "display_data"
    }
   ],
   "source": [
    "# plot single ctRSD gate reaction with experimental nomenclature\n",
    "# Note - matplotlib must be imported for plotting functions \n",
    "import matplotlib as plt\n",
    "import matplotlib.pyplot as plt\n",
    "\n",
    "fs = 12\n",
    "plt.plot(t_sim/60,(S2/500)*100,color=[0,0,1],linewidth=2,linestyle='--')\n",
    "plt.xticks(fontsize=fs)\n",
    "plt.yticks(fontsize=fs)\n",
    "plt.ylim(-10,110)\n",
    "plt.xlim(0,180)\n",
    "ax1 = plt.gca()\n",
    "ax1.xaxis.set_tick_params(which='both',size=3,width=1,direction='in',top='on')\n",
    "#ax1.xaxis.set_major_locator(MaxNLocator(integer=True))\n",
    "ax1.yaxis.set_tick_params(which='both',size=3,width=1,direction='in',right='on')\n",
    "plt.xlabel('Time (min)',fontsize=fs)\n",
    "plt.ylabel('Reacted reporter (%)',fontsize=fs)"
   ]
  },
  {
   "cell_type": "markdown",
   "metadata": {},
   "source": [
    "### Two layer simulation with experimental nomenclature"
   ]
  },
  {
   "cell_type": "code",
   "execution_count": 20,
   "metadata": {},
   "outputs": [],
   "source": [
    "# create the model instance\n",
    "model_e2 = RSDs.RSD_sim() # default # of domains (5 domains)\n",
    "\n",
    "model_e2.global_rate_constants(ktxn = 0.02) # changing the global transcription rate constant\n",
    "\n",
    "# specify species involved in the system\n",
    "model_e2.molecular_species('I{u3}', DNA_con = 25)\n",
    "model_e2.molecular_species('G{u3,v1}', DNA_con = 25)\n",
    "model_e2.molecular_species('G{v1,u2r}', DNA_con = 10)\n",
    "model_e2.molecular_species('R{u2}', ic = 500)\n",
    "\n",
    "# simulating the model\n",
    "t_sim = np.linspace(0,6,1001)*3600 # seconds\n",
    "model_e2.simulate(t_sim) # simulate the model\n",
    "\n",
    "# pull out the species from the model solution to plot\n",
    "S2 = model_e2.output_concentration('S{u2}')"
   ]
  },
  {
   "cell_type": "code",
   "execution_count": 21,
   "metadata": {},
   "outputs": [
    {
     "data": {
      "text/plain": [
       "Text(0, 0.5, 'Reacted reporter (%)')"
      ]
     },
     "execution_count": 21,
     "metadata": {},
     "output_type": "execute_result"
    },
    {
     "data": {
      "image/png": "[encoded data removed]",
      "text/plain": [
       "<Figure size 432x288 with 1 Axes>"
      ]
     },
     "metadata": {
      "needs_background": "light"
     },
     "output_type": "display_data"
    }
   ],
   "source": [
    "# plot single ctRSD gate reaction with experimental nomenclature\n",
    "# Note - matplotlib must be imported for plotting functions \n",
    "import matplotlib as plt\n",
    "import matplotlib.pyplot as plt\n",
    "\n",
    "fs = 12\n",
    "plt.plot(t_sim/60,(S2/500)*100,color=[0,0,1],linewidth=2,linestyle='--')\n",
    "plt.xticks(fontsize=fs)\n",
    "plt.yticks(fontsize=fs)\n",
    "plt.ylim(-10,110)\n",
    "plt.xlim(0,180)\n",
    "ax1 = plt.gca()\n",
    "ax1.xaxis.set_tick_params(which='both',size=3,width=1,direction='in',top='on')\n",
    "#ax1.xaxis.set_major_locator(MaxNLocator(integer=True))\n",
    "ax1.yaxis.set_tick_params(which='both',size=3,width=1,direction='in',right='on')\n",
    "plt.xlabel('Time (min)',fontsize=fs)\n",
    "plt.ylabel('Reacted reporter (%)',fontsize=fs)"
   ]
  },
  {
   "cell_type": "code",
   "execution_count": null,
   "metadata": {},
   "outputs": [],
   "source": []
  }
 ],
 "metadata": {
  "kernelspec": {
   "display_name": "Python 3",
   "language": "python",
   "name": "python3"
  },
  "language_info": {
   "codemirror_mode": {
    "name": "ipython",
    "version": 3
   },
   "file_extension": ".py",
   "mimetype": "text/x-python",
   "name": "python",
   "nbconvert_exporter": "python",
   "pygments_lexer": "ipython3",
   "version": "3.8.3"
  }
 },
 "nbformat": 4,
 "nbformat_minor": 5
}
